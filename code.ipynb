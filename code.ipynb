{
    import numpy as np
    import pandas as pd
    from sklearn.svm import SVC
    from transformers import AutoTokenizer, AutoModel
    import torch

    # Load BERT tokenizer and model for embeddings
    tokenizer = AutoTokenizer.from_pretrained('bert-base-uncased')
    embedding_model = AutoModel.from_pretrained('bert-base-uncased')

    # Function to preprocess query and generate embeddings
    def preprocess_query(query):
        inputs = tokenizer(query, return_tensors='pt')
        outputs = embedding_model(inputs)
        return outputs.last_hidden_state

    # Load and prepare the training data
    data = pd.read_excel('Intent_training_data.xlsx')
    df = pd.DataFrame(data)
    X_train = df['Intent_Data']
    y_train_intent = df['Label']

    # Generate embeddings for training data
    X_train_embeddings = [
        preprocess_query(query).mean(dim=1).detach().numpy()[0] 
        for query in X_train
    ]

    # Train the intent recognition model
    intent_model = SVC(probability=True)
    intent_model.fit(X_train_embeddings, y_train_intent)

    # Function to recognize intent from a query
    def recognize_intent(query, model):
        embedding = preprocess_query(query).mean(dim=1).detach().numpy()[0]
        intent_proba = model.predict_proba([embedding])
        best_intent_idx = intent_proba.argmax()
        best_intent_confidence = intent_proba[0][best_intent_idx]
        intent = model.classes_[best_intent_idx]
        return intent, best_intent_confidence

    # Debugging: Print the length of embeddings and example data
    print(len(X_train_embeddings), len(y_train_intent))
    print(X_train[249], y_train_intent[249], y_train_intent[498])

    # Example categories for token classification (Equipment ID, Name of Equipment, etc.)
    equipment_ids = [
        "NOP/LGS/STC/01", "Equipment_ID_NOP/LGS/STC/01", "ID_NOP/LGS/STC/01", "STC/01",
        "NOP/LGS/STC/02", "Equipment_ID_NOP/LGS/STC/02", "ID_NOP/LGS/STC/02", "STC/02",
        # ... more examples ...
    ]

    equipment_names = [
        "Station_Computer_01", "Station_Comp-00", "Station_Computer-01_DELL-T5600",
        # ... more examples ...
    ]

    hardware_locations = [
        "TELEMETRY", "Location_TELEMETRY", "Located_in_TELEMETRY", "TELEMETRY_room",
        # ... more examples ...
    ]

    serial_numbers = [
        "C1954Y1", "Serial_No._C1954Y1", "C1954Y1_serial_number", "Serial_number_C1954Y1",
        # ... more examples ...
    ]

    store_ref_numbers = [
        "ISTRAC/A00020061844", "Store_Ref._No._ISTRAC/A00020061844", "ISTRAC/A00020061844_ref", "Ref._ISTRAC/A00020061844",
        # ... more examples ...
    ]

    asset_ids = [
        "A00020130592", "A00020130607", "A00020070496", "A00020200422", "A00020191234",
        # ... more examples ...
    ]
}
